{
 "cells": [
  {
   "cell_type": "markdown",
   "metadata": {
    "colab_type": "text",
    "id": "binPN-FDOmt4"
   },
   "source": [
    "# Modèle linéaire\n",
    "\n",
    "Considérons la cas classique d'une fonction affine :\n",
    "\n",
    "$$y=ax+b$$\n",
    "\n",
    "Ici, $a$ et $b$ sont des réels. Ces deux nombres définissent entièrement la courbe et permet donc d'obtenir une relation **affine** entre $x$ et $y$. En statistique, cette relation est à la base des modèles dit **linéaires**, où une variable réponse se définit comme une somme de variables explicatives où chacune de ces dernières sont multipliés par un coefficient.\n",
    "\n",
    "\n",
    "## Modèle linéaire simple\n",
    "\n",
    "![](https://upload.wikimedia.org/wikipedia/commons/thumb/3/3a/Linear_regression.svg/438px-Linear_regression.svg.png)\n",
    "\n",
    "Dans le modèle linéaire simple (une seule variable explicative), on suppose que la variable réponse suit le modèle suivant :\n",
    "\n",
    "$$y_i=\\beta_0 + \\beta_1 x_i + \\varepsilon_i$$\n",
    "\n",
    "On remarque la ressemblance avec la fonction affine présentée ci-dessus. La différence réside dans l'existence du terme aléatoire (appelé bruit) $\\varepsilon_i$. Afin de considérer le modèle, il est nécessaire de se placer sous les hypothèses suivantes\n",
    "\n",
    "$$(\\mathcal{H}) : \\left\\{\\begin{matrix}\n",
    "\\mathbb{E}[\\varepsilon_i]=0\\\\ \n",
    "\\text{Cov}(\\varepsilon_i, \\varepsilon_j)=\\delta_{ij} \\sigma^2\n",
    "\\end{matrix}\\right.$$\n",
    "Les différents éléments qui interviennent sont :\n",
    "\n",
    "- $\\beta_0$ : l'ordonnée à l'origine (nommée *intercept*)\n",
    "- $\\beta_1$ : le coefficient directeur\n",
    "- $x_i$ : l'observation $i$\n",
    "- $y_i$ : le $i$-ème prix\n",
    "- $\\varepsilon_i$ : le bruit aléatoire liée à la $i$-ème observation\n",
    "\n",
    "La solution peut se calculer facilement via les formules fermées suivantes :\n",
    "\n",
    "$$\\hat{\\beta}_1=\\frac{\\sum_{i=1}^n (x_i - \\bar{x})(y_i - \\bar{y})}{\\sum_{i=1}^n (x_i - \\bar{x})^2} \\qquad \\hat{\\beta}_0 = \\hat{y} - \\hat{\\beta}_1 \\bar{x}$$\n",
    "\n",
    "## Modèle linéaire multiple\n",
    "\n",
    "Dans le cas multiple (pour $p$ variables explicatives), pour la $i$-ème observation, le modèle s'écrit :\n",
    "\n",
    "$$y_i= \\beta_0 + \\sum_{j=1}^p \\beta_j x_{ij} + \\varepsilon_i$$\n",
    "\n",
    "Ainsi, une observation $x_i$ n'est plus une valeur, mais un **vecteur** $(x_{i1}, \\dots, x_{ip})$. Il est plus commode de regrouper ces prix $y_i$ et ces vecteurs d'observations $x_i$ dans des matrices :\n",
    "\n",
    "$$Y=X \\beta + \\varepsilon$$\n",
    "\n",
    "Sous les hypothèses équivalentes du modèle simple en plus grand dimension\n",
    "\n",
    "$$(\\mathcal{H}) : \\left\\{\\begin{matrix}\n",
    "\\text{rank}(X)=p\\\\ \n",
    "\\mathbb{E}[\\varepsilon]=0 \\text{ et }\\text{Var}(\\varepsilon)=\\sigma^2 I_p\n",
    "\\end{matrix}\\right.$$\n",
    "\n",
    "Les différents éléments qui interviennent sont :\n",
    "\n",
    "- $\\beta$ : le vecteur directeur\n",
    "- $X$ : la matrice des observations\n",
    "- $Y$ : le vecteur de prix\n",
    "- $\\varepsilon$ : le vecteur de bruit\n",
    "\n",
    "Avec $X=( \\mathbf{1}, X_1, \\dots, X_n)$, $Y=(y_1, \\dots, y_n)^\\top$ et $\\varepsilon=(\\varepsilon_1, \\dots, \\varepsilon_n)^\\top$. La solution des MCO (Moindres Carrés Ordinaires) est alors :\n",
    "\n",
    "$$\\hat{\\beta}= (X^\\top X)^{-1} X^\\top Y$$\n",
    "\n",
    "Vous pouvez d'ailleurs faire la démonstration de votre coté ! Pour plus d'information mathématiques, le portail de wikipédia qui est très bien fait : [lien ici](https://fr.wikipedia.org/wiki/Portail:Probabilit%C3%A9s_et_statistiques)"
   ]
  },
  {
   "cell_type": "markdown",
   "metadata": {
    "colab_type": "text",
    "id": "dRQO2ydTOmuA"
   },
   "source": [
    "# Implémenter une régression linéaire \n"
   ]
  },
  {
   "cell_type": "code",
   "execution_count": 1,
   "metadata": {
    "colab": {},
    "colab_type": "code",
    "id": "ckyBi2FLOmuE"
   },
   "outputs": [],
   "source": [
    "#importer vos librairies \n",
    "import numpy as np\n",
    "import math \n",
    "import matplotlib.pyplot as plt\n",
    "import pandas as pds\n",
    "import seaborn as sbn\n",
    "import sklearn as skl\n"
   ]
  },
  {
   "cell_type": "code",
   "execution_count": 2,
   "metadata": {
    "colab": {},
    "colab_type": "code",
    "id": "B6I-a12SOmud",
    "outputId": "cbe1bdef-5dda-429a-a4f9-81fc4df45794"
   },
   "outputs": [
    {
     "data": {
      "text/html": [
       "<div>\n",
       "<style scoped>\n",
       "    .dataframe tbody tr th:only-of-type {\n",
       "        vertical-align: middle;\n",
       "    }\n",
       "\n",
       "    .dataframe tbody tr th {\n",
       "        vertical-align: top;\n",
       "    }\n",
       "\n",
       "    .dataframe thead th {\n",
       "        text-align: right;\n",
       "    }\n",
       "</style>\n",
       "<table border=\"1\" class=\"dataframe\">\n",
       "  <thead>\n",
       "    <tr style=\"text-align: right;\">\n",
       "      <th></th>\n",
       "      <th>listing_id</th>\n",
       "      <th>day</th>\n",
       "      <th>created</th>\n",
       "      <th>available</th>\n",
       "      <th>local_currency</th>\n",
       "      <th>local_price</th>\n",
       "      <th>min_nights</th>\n",
       "    </tr>\n",
       "  </thead>\n",
       "  <tbody>\n",
       "    <tr>\n",
       "      <th>0</th>\n",
       "      <td>9810829</td>\n",
       "      <td>2018-12-08</td>\n",
       "      <td>2018-09-27 06:14:10.000+0000</td>\n",
       "      <td>True</td>\n",
       "      <td>EUR</td>\n",
       "      <td>160</td>\n",
       "      <td>1</td>\n",
       "    </tr>\n",
       "    <tr>\n",
       "      <th>1</th>\n",
       "      <td>9810829</td>\n",
       "      <td>2018-12-08</td>\n",
       "      <td>2018-09-26 19:34:02.000+0000</td>\n",
       "      <td>True</td>\n",
       "      <td>EUR</td>\n",
       "      <td>160</td>\n",
       "      <td>1</td>\n",
       "    </tr>\n",
       "    <tr>\n",
       "      <th>2</th>\n",
       "      <td>20897010</td>\n",
       "      <td>2018-12-09</td>\n",
       "      <td>2018-09-27 10:38:57.000+0000</td>\n",
       "      <td>True</td>\n",
       "      <td>EUR</td>\n",
       "      <td>172</td>\n",
       "      <td>2</td>\n",
       "    </tr>\n",
       "    <tr>\n",
       "      <th>3</th>\n",
       "      <td>20897010</td>\n",
       "      <td>2018-12-09</td>\n",
       "      <td>2018-09-27 06:10:27.000+0000</td>\n",
       "      <td>True</td>\n",
       "      <td>EUR</td>\n",
       "      <td>172</td>\n",
       "      <td>2</td>\n",
       "    </tr>\n",
       "    <tr>\n",
       "      <th>4</th>\n",
       "      <td>20897010</td>\n",
       "      <td>2018-12-09</td>\n",
       "      <td>2018-09-26 19:30:25.000+0000</td>\n",
       "      <td>True</td>\n",
       "      <td>EUR</td>\n",
       "      <td>172</td>\n",
       "      <td>2</td>\n",
       "    </tr>\n",
       "    <tr>\n",
       "      <th>5</th>\n",
       "      <td>20897010</td>\n",
       "      <td>2018-12-09</td>\n",
       "      <td>2018-09-26 15:10:09.000+0000</td>\n",
       "      <td>True</td>\n",
       "      <td>EUR</td>\n",
       "      <td>172</td>\n",
       "      <td>2</td>\n",
       "    </tr>\n",
       "    <tr>\n",
       "      <th>6</th>\n",
       "      <td>4290340</td>\n",
       "      <td>2018-09-04</td>\n",
       "      <td>2018-09-27 10:50:42.000+0000</td>\n",
       "      <td>True</td>\n",
       "      <td>EUR</td>\n",
       "      <td>67</td>\n",
       "      <td>15</td>\n",
       "    </tr>\n",
       "    <tr>\n",
       "      <th>7</th>\n",
       "      <td>4290340</td>\n",
       "      <td>2018-09-04</td>\n",
       "      <td>2018-09-27 06:06:28.000+0000</td>\n",
       "      <td>True</td>\n",
       "      <td>EUR</td>\n",
       "      <td>67</td>\n",
       "      <td>15</td>\n",
       "    </tr>\n",
       "    <tr>\n",
       "      <th>8</th>\n",
       "      <td>4290340</td>\n",
       "      <td>2018-09-04</td>\n",
       "      <td>2018-09-26 19:42:08.000+0000</td>\n",
       "      <td>True</td>\n",
       "      <td>EUR</td>\n",
       "      <td>67</td>\n",
       "      <td>15</td>\n",
       "    </tr>\n",
       "    <tr>\n",
       "      <th>9</th>\n",
       "      <td>24574634</td>\n",
       "      <td>2018-09-21</td>\n",
       "      <td>2018-09-27 10:48:47.000+0000</td>\n",
       "      <td>False</td>\n",
       "      <td>EUR</td>\n",
       "      <td>44</td>\n",
       "      <td>5</td>\n",
       "    </tr>\n",
       "  </tbody>\n",
       "</table>\n",
       "</div>"
      ],
      "text/plain": [
       "   listing_id         day                       created  available  \\\n",
       "0     9810829  2018-12-08  2018-09-27 06:14:10.000+0000       True   \n",
       "1     9810829  2018-12-08  2018-09-26 19:34:02.000+0000       True   \n",
       "2    20897010  2018-12-09  2018-09-27 10:38:57.000+0000       True   \n",
       "3    20897010  2018-12-09  2018-09-27 06:10:27.000+0000       True   \n",
       "4    20897010  2018-12-09  2018-09-26 19:30:25.000+0000       True   \n",
       "5    20897010  2018-12-09  2018-09-26 15:10:09.000+0000       True   \n",
       "6     4290340  2018-09-04  2018-09-27 10:50:42.000+0000       True   \n",
       "7     4290340  2018-09-04  2018-09-27 06:06:28.000+0000       True   \n",
       "8     4290340  2018-09-04  2018-09-26 19:42:08.000+0000       True   \n",
       "9    24574634  2018-09-21  2018-09-27 10:48:47.000+0000      False   \n",
       "\n",
       "  local_currency  local_price  min_nights  \n",
       "0            EUR          160           1  \n",
       "1            EUR          160           1  \n",
       "2            EUR          172           2  \n",
       "3            EUR          172           2  \n",
       "4            EUR          172           2  \n",
       "5            EUR          172           2  \n",
       "6            EUR           67          15  \n",
       "7            EUR           67          15  \n",
       "8            EUR           67          15  \n",
       "9            EUR           44           5  "
      ]
     },
     "execution_count": 2,
     "metadata": {},
     "output_type": "execute_result"
    }
   ],
   "source": [
    "#charger les données \n",
    "#price_availability.csv\n",
    "pricea = pds.read_csv(\"Dataset/price_availability.csv\", delimiter=';')\n",
    "pricea.head(10)\n",
    "#listings_final.csv\n",
    "#vérifier si tous les individus ont bien un prix \n"
   ]
  },
  {
   "cell_type": "code",
   "execution_count": 46,
   "metadata": {},
   "outputs": [
    {
     "data": {
      "text/html": [
       "<div>\n",
       "<style scoped>\n",
       "    .dataframe tbody tr th:only-of-type {\n",
       "        vertical-align: middle;\n",
       "    }\n",
       "\n",
       "    .dataframe tbody tr th {\n",
       "        vertical-align: top;\n",
       "    }\n",
       "\n",
       "    .dataframe thead th {\n",
       "        text-align: right;\n",
       "    }\n",
       "</style>\n",
       "<table border=\"1\" class=\"dataframe\">\n",
       "  <thead>\n",
       "    <tr style=\"text-align: right;\">\n",
       "      <th></th>\n",
       "      <th>Unnamed: 0</th>\n",
       "      <th>listing_id</th>\n",
       "      <th>name</th>\n",
       "      <th>type</th>\n",
       "      <th>city</th>\n",
       "      <th>neighborhood</th>\n",
       "      <th>latitude</th>\n",
       "      <th>longitude</th>\n",
       "      <th>person_capacity</th>\n",
       "      <th>beds</th>\n",
       "      <th>bedrooms</th>\n",
       "      <th>bathrooms</th>\n",
       "      <th>is_rebookable</th>\n",
       "      <th>is_new_listing</th>\n",
       "      <th>is_fully_refundable</th>\n",
       "      <th>is_host_highly_rated</th>\n",
       "      <th>is_business_travel_ready</th>\n",
       "      <th>pricing_weekly_factor</th>\n",
       "      <th>pricing_monthly_factor</th>\n",
       "    </tr>\n",
       "  </thead>\n",
       "  <tbody>\n",
       "    <tr>\n",
       "      <th>0</th>\n",
       "      <td>0</td>\n",
       "      <td>28581061</td>\n",
       "      <td>La maison Clery</td>\n",
       "      <td>private_room</td>\n",
       "      <td>Paris</td>\n",
       "      <td>2e arrondissement</td>\n",
       "      <td>48.869292</td>\n",
       "      <td>2.348335</td>\n",
       "      <td>1</td>\n",
       "      <td>1</td>\n",
       "      <td>1</td>\n",
       "      <td>2.0</td>\n",
       "      <td>False</td>\n",
       "      <td>True</td>\n",
       "      <td>True</td>\n",
       "      <td>False</td>\n",
       "      <td>False</td>\n",
       "      <td>1.00</td>\n",
       "      <td>1.00</td>\n",
       "    </tr>\n",
       "    <tr>\n",
       "      <th>1</th>\n",
       "      <td>1</td>\n",
       "      <td>661961</td>\n",
       "      <td>studio PARIS PLACE EDITH PIAF 75020</td>\n",
       "      <td>entire_home</td>\n",
       "      <td>Paris</td>\n",
       "      <td>NaN</td>\n",
       "      <td>48.867284</td>\n",
       "      <td>2.403255</td>\n",
       "      <td>2</td>\n",
       "      <td>1</td>\n",
       "      <td>1</td>\n",
       "      <td>1.0</td>\n",
       "      <td>False</td>\n",
       "      <td>False</td>\n",
       "      <td>True</td>\n",
       "      <td>True</td>\n",
       "      <td>False</td>\n",
       "      <td>0.88</td>\n",
       "      <td>0.69</td>\n",
       "    </tr>\n",
       "    <tr>\n",
       "      <th>2</th>\n",
       "      <td>2</td>\n",
       "      <td>1261705</td>\n",
       "      <td>chambre privée à louer @ paris oberkampf</td>\n",
       "      <td>private_room</td>\n",
       "      <td>Paris</td>\n",
       "      <td>NaN</td>\n",
       "      <td>48.867894</td>\n",
       "      <td>2.375897</td>\n",
       "      <td>1</td>\n",
       "      <td>1</td>\n",
       "      <td>1</td>\n",
       "      <td>1.0</td>\n",
       "      <td>False</td>\n",
       "      <td>False</td>\n",
       "      <td>True</td>\n",
       "      <td>True</td>\n",
       "      <td>False</td>\n",
       "      <td>1.00</td>\n",
       "      <td>1.00</td>\n",
       "    </tr>\n",
       "    <tr>\n",
       "      <th>3</th>\n",
       "      <td>3</td>\n",
       "      <td>1318834</td>\n",
       "      <td>Appartement au coeur du Marais</td>\n",
       "      <td>entire_home</td>\n",
       "      <td>Paris</td>\n",
       "      <td>République</td>\n",
       "      <td>48.870370</td>\n",
       "      <td>2.358510</td>\n",
       "      <td>3</td>\n",
       "      <td>2</td>\n",
       "      <td>2</td>\n",
       "      <td>1.0</td>\n",
       "      <td>False</td>\n",
       "      <td>False</td>\n",
       "      <td>True</td>\n",
       "      <td>False</td>\n",
       "      <td>False</td>\n",
       "      <td>0.82</td>\n",
       "      <td>0.48</td>\n",
       "    </tr>\n",
       "    <tr>\n",
       "      <th>4</th>\n",
       "      <td>4</td>\n",
       "      <td>1677091</td>\n",
       "      <td>Lovely &amp; Quiet flat</td>\n",
       "      <td>entire_home</td>\n",
       "      <td>Paris</td>\n",
       "      <td>Buttes-Chaumont - Belleville</td>\n",
       "      <td>48.874149</td>\n",
       "      <td>2.373700</td>\n",
       "      <td>2</td>\n",
       "      <td>1</td>\n",
       "      <td>1</td>\n",
       "      <td>1.0</td>\n",
       "      <td>False</td>\n",
       "      <td>False</td>\n",
       "      <td>True</td>\n",
       "      <td>True</td>\n",
       "      <td>False</td>\n",
       "      <td>0.95</td>\n",
       "      <td>0.90</td>\n",
       "    </tr>\n",
       "  </tbody>\n",
       "</table>\n",
       "</div>"
      ],
      "text/plain": [
       "   Unnamed: 0  listing_id                                      name  \\\n",
       "0           0    28581061                           La maison Clery   \n",
       "1           1      661961       studio PARIS PLACE EDITH PIAF 75020   \n",
       "2           2     1261705  chambre privée à louer @ paris oberkampf   \n",
       "3           3     1318834            Appartement au coeur du Marais   \n",
       "4           4     1677091                       Lovely & Quiet flat   \n",
       "\n",
       "           type   city                  neighborhood   latitude  longitude  \\\n",
       "0  private_room  Paris             2e arrondissement  48.869292   2.348335   \n",
       "1   entire_home  Paris                           NaN  48.867284   2.403255   \n",
       "2  private_room  Paris                           NaN  48.867894   2.375897   \n",
       "3   entire_home  Paris                    République  48.870370   2.358510   \n",
       "4   entire_home  Paris  Buttes-Chaumont - Belleville  48.874149   2.373700   \n",
       "\n",
       "   person_capacity  beds  bedrooms  bathrooms  is_rebookable  is_new_listing  \\\n",
       "0                1     1         1        2.0          False            True   \n",
       "1                2     1         1        1.0          False           False   \n",
       "2                1     1         1        1.0          False           False   \n",
       "3                3     2         2        1.0          False           False   \n",
       "4                2     1         1        1.0          False           False   \n",
       "\n",
       "   is_fully_refundable  is_host_highly_rated  is_business_travel_ready  \\\n",
       "0                 True                 False                     False   \n",
       "1                 True                  True                     False   \n",
       "2                 True                  True                     False   \n",
       "3                 True                 False                     False   \n",
       "4                 True                  True                     False   \n",
       "\n",
       "   pricing_weekly_factor  pricing_monthly_factor  \n",
       "0                   1.00                    1.00  \n",
       "1                   0.88                    0.69  \n",
       "2                   1.00                    1.00  \n",
       "3                   0.82                    0.48  \n",
       "4                   0.95                    0.90  "
      ]
     },
     "execution_count": 46,
     "metadata": {},
     "output_type": "execute_result"
    }
   ],
   "source": [
    "listing = pds.read_csv(\"Dataset/listings_final.csv\", delimiter=';')\n",
    "listing.head()"
   ]
  },
  {
   "cell_type": "markdown",
   "metadata": {
    "colab_type": "text",
    "id": "XT3LsnvVOmut"
   },
   "source": [
    "## Données d'entrée"
   ]
  },
  {
   "cell_type": "markdown",
   "metadata": {
    "colab_type": "text",
    "id": "T8DTTFEKOmu0"
   },
   "source": [
    "L'objectif ici est de charger les données pour créer les matrices $X$ et $Y$ du modèle linéaire. **Attention**, il n'est pas nécessaire de rajouter le vecteur colonne $\\mathbf{1}$ en première colonne, car *scikit-learn* le fait automatiquement !"
   ]
  },
  {
   "cell_type": "code",
   "execution_count": 42,
   "metadata": {
    "colab": {},
    "colab_type": "code",
    "id": "tnTd7XKdOmu5"
   },
   "outputs": [],
   "source": [
    "priceb = pricea.groupby(['listing_id']).mean('local_price')\n",
    "priceb3 = priceb.sort_values(['listing_id'])\n"
   ]
  },
  {
   "cell_type": "code",
   "execution_count": 41,
   "metadata": {},
   "outputs": [
    {
     "data": {
      "text/plain": [
       "<bound method NDFrame.head of             available  local_price  min_nights\n",
       "listing_id                                    \n",
       "5396         0.011494   102.363985    2.000000\n",
       "7397         0.168297   110.107632   11.000000\n",
       "9342         0.309198   396.863014    2.784736\n",
       "10010        0.254593   136.154856    4.955381\n",
       "10270        0.511688   105.779221    4.937662\n",
       "...               ...          ...         ...\n",
       "28836096     0.082707   321.428571    1.022556\n",
       "28838519     0.083333    54.483333    5.000000\n",
       "28840013     0.743083   112.122530    2.000000\n",
       "28846494     0.225564   168.037594    4.000000\n",
       "28851976     0.812030   128.000000    2.000000\n",
       "\n",
       "[11749 rows x 3 columns]>"
      ]
     },
     "execution_count": 41,
     "metadata": {},
     "output_type": "execute_result"
    }
   ],
   "source": [
    "priceb3.head"
   ]
  },
  {
   "cell_type": "code",
   "execution_count": 45,
   "metadata": {},
   "outputs": [],
   "source": [
    "price3 = priceb3[priceb3.local_price.notnull()]"
   ]
  },
  {
   "cell_type": "code",
   "execution_count": 65,
   "metadata": {},
   "outputs": [],
   "source": [
    "price4 = price3.drop(columns = ['available','min_nights'])"
   ]
  },
  {
   "cell_type": "code",
   "execution_count": 67,
   "metadata": {},
   "outputs": [
    {
     "data": {
      "text/plain": [
       "<bound method NDFrame.head of      Unnamed: 0  listing_id                                      name  \\\n",
       "0             0    28581061                           La maison Clery   \n",
       "1             1      661961       studio PARIS PLACE EDITH PIAF 75020   \n",
       "2             2     1261705  chambre privée à louer @ paris oberkampf   \n",
       "3             3     1318834            Appartement au coeur du Marais   \n",
       "4             4     1677091                       Lovely & Quiet flat   \n",
       "..          ...         ...                                       ...   \n",
       "994         995    28335197          Studio cosy Jardin du Luxembourg   \n",
       "995         996    28583013    Charmant  30m2 - Faubourg Saint Martin   \n",
       "996         997    28628316       Cosy flat in the marais - Best area   \n",
       "997         998    28792796         Appartement 3 chambres madeleine.   \n",
       "998         999    28682896                          Village Jourdain   \n",
       "\n",
       "             type   city                    neighborhood   latitude  \\\n",
       "0    private_room  Paris               2e arrondissement  48.869292   \n",
       "1     entire_home  Paris                             NaN  48.867284   \n",
       "2    private_room  Paris                             NaN  48.867894   \n",
       "3     entire_home  Paris                      République  48.870370   \n",
       "4     entire_home  Paris    Buttes-Chaumont - Belleville  48.874149   \n",
       "..            ...    ...                             ...        ...   \n",
       "994   entire_home  Paris  Saint Germain des Prés - Odéon  48.848695   \n",
       "995   entire_home  Paris                      République  48.871623   \n",
       "996   entire_home  Paris               2e arrondissement  48.867434   \n",
       "997   entire_home  Paris             Madeleine - Vendôme  48.870109   \n",
       "998  private_room  Paris    Buttes-Chaumont - Belleville  48.875425   \n",
       "\n",
       "     longitude  person_capacity  beds  bedrooms  bathrooms  is_rebookable  \\\n",
       "0     2.348335                1     1         1        2.0          False   \n",
       "1     2.403255                2     1         1        1.0          False   \n",
       "2     2.375897                1     1         1        1.0          False   \n",
       "3     2.358510                3     2         2        1.0          False   \n",
       "4     2.373700                2     1         1        1.0          False   \n",
       "..         ...              ...   ...       ...        ...            ...   \n",
       "994   2.325857                2     1         0        1.0          False   \n",
       "995   2.358006                3     1         1        1.0          False   \n",
       "996   2.351771                4     2         1        1.0          False   \n",
       "997   2.321475                6     4         2        1.5          False   \n",
       "998   2.395240                2     1         1        1.0          False   \n",
       "\n",
       "     is_new_listing  is_fully_refundable  is_host_highly_rated  \\\n",
       "0              True                 True                 False   \n",
       "1             False                 True                  True   \n",
       "2             False                 True                  True   \n",
       "3             False                 True                 False   \n",
       "4             False                 True                  True   \n",
       "..              ...                  ...                   ...   \n",
       "994            True                 True                 False   \n",
       "995            True                 True                 False   \n",
       "996            True                 True                  True   \n",
       "997            True                 True                 False   \n",
       "998            True                 True                 False   \n",
       "\n",
       "     is_business_travel_ready  pricing_weekly_factor  pricing_monthly_factor  \\\n",
       "0                       False                   1.00                    1.00   \n",
       "1                       False                   0.88                    0.69   \n",
       "2                       False                   1.00                    1.00   \n",
       "3                       False                   0.82                    0.48   \n",
       "4                       False                   0.95                    0.90   \n",
       "..                        ...                    ...                     ...   \n",
       "994                     False                   0.79                    1.00   \n",
       "995                     False                   1.00                    1.00   \n",
       "996                     False                   1.00                    1.00   \n",
       "997                     False                   1.00                    1.00   \n",
       "998                     False                   1.00                    1.00   \n",
       "\n",
       "     local_price  \n",
       "0      45.948454  \n",
       "1      44.473684  \n",
       "2      49.000000  \n",
       "3     165.000000  \n",
       "4      69.774436  \n",
       "..           ...  \n",
       "994    38.507732  \n",
       "995   147.752551  \n",
       "996   152.860825  \n",
       "997    49.184211  \n",
       "998    39.503937  \n",
       "\n",
       "[999 rows x 20 columns]>"
      ]
     },
     "execution_count": 67,
     "metadata": {},
     "output_type": "execute_result"
    }
   ],
   "source": [
    "listing_merge = listing.merge(price4, on=\"listing_id\")\n",
    "listing_merge.head"
   ]
  },
  {
   "cell_type": "code",
   "execution_count": 68,
   "metadata": {},
   "outputs": [],
   "source": [
    "listing_merge2 = listing_merge[listing_merge.local_price.notnull()]"
   ]
  },
  {
   "cell_type": "code",
   "execution_count": 69,
   "metadata": {},
   "outputs": [
    {
     "data": {
      "text/plain": [
       "<bound method NDFrame.head of      Unnamed: 0  listing_id                                      name  \\\n",
       "0             0    28581061                           La maison Clery   \n",
       "1             1      661961       studio PARIS PLACE EDITH PIAF 75020   \n",
       "2             2     1261705  chambre privée à louer @ paris oberkampf   \n",
       "3             3     1318834            Appartement au coeur du Marais   \n",
       "4             4     1677091                       Lovely & Quiet flat   \n",
       "..          ...         ...                                       ...   \n",
       "994         995    28335197          Studio cosy Jardin du Luxembourg   \n",
       "995         996    28583013    Charmant  30m2 - Faubourg Saint Martin   \n",
       "996         997    28628316       Cosy flat in the marais - Best area   \n",
       "997         998    28792796         Appartement 3 chambres madeleine.   \n",
       "998         999    28682896                          Village Jourdain   \n",
       "\n",
       "             type   city                    neighborhood   latitude  \\\n",
       "0    private_room  Paris               2e arrondissement  48.869292   \n",
       "1     entire_home  Paris                             NaN  48.867284   \n",
       "2    private_room  Paris                             NaN  48.867894   \n",
       "3     entire_home  Paris                      République  48.870370   \n",
       "4     entire_home  Paris    Buttes-Chaumont - Belleville  48.874149   \n",
       "..            ...    ...                             ...        ...   \n",
       "994   entire_home  Paris  Saint Germain des Prés - Odéon  48.848695   \n",
       "995   entire_home  Paris                      République  48.871623   \n",
       "996   entire_home  Paris               2e arrondissement  48.867434   \n",
       "997   entire_home  Paris             Madeleine - Vendôme  48.870109   \n",
       "998  private_room  Paris    Buttes-Chaumont - Belleville  48.875425   \n",
       "\n",
       "     longitude  person_capacity  beds  bedrooms  bathrooms  is_rebookable  \\\n",
       "0     2.348335                1     1         1        2.0          False   \n",
       "1     2.403255                2     1         1        1.0          False   \n",
       "2     2.375897                1     1         1        1.0          False   \n",
       "3     2.358510                3     2         2        1.0          False   \n",
       "4     2.373700                2     1         1        1.0          False   \n",
       "..         ...              ...   ...       ...        ...            ...   \n",
       "994   2.325857                2     1         0        1.0          False   \n",
       "995   2.358006                3     1         1        1.0          False   \n",
       "996   2.351771                4     2         1        1.0          False   \n",
       "997   2.321475                6     4         2        1.5          False   \n",
       "998   2.395240                2     1         1        1.0          False   \n",
       "\n",
       "     is_new_listing  is_fully_refundable  is_host_highly_rated  \\\n",
       "0              True                 True                 False   \n",
       "1             False                 True                  True   \n",
       "2             False                 True                  True   \n",
       "3             False                 True                 False   \n",
       "4             False                 True                  True   \n",
       "..              ...                  ...                   ...   \n",
       "994            True                 True                 False   \n",
       "995            True                 True                 False   \n",
       "996            True                 True                  True   \n",
       "997            True                 True                 False   \n",
       "998            True                 True                 False   \n",
       "\n",
       "     is_business_travel_ready  pricing_weekly_factor  pricing_monthly_factor  \\\n",
       "0                       False                   1.00                    1.00   \n",
       "1                       False                   0.88                    0.69   \n",
       "2                       False                   1.00                    1.00   \n",
       "3                       False                   0.82                    0.48   \n",
       "4                       False                   0.95                    0.90   \n",
       "..                        ...                    ...                     ...   \n",
       "994                     False                   0.79                    1.00   \n",
       "995                     False                   1.00                    1.00   \n",
       "996                     False                   1.00                    1.00   \n",
       "997                     False                   1.00                    1.00   \n",
       "998                     False                   1.00                    1.00   \n",
       "\n",
       "     local_price  \n",
       "0      45.948454  \n",
       "1      44.473684  \n",
       "2      49.000000  \n",
       "3     165.000000  \n",
       "4      69.774436  \n",
       "..           ...  \n",
       "994    38.507732  \n",
       "995   147.752551  \n",
       "996   152.860825  \n",
       "997    49.184211  \n",
       "998    39.503937  \n",
       "\n",
       "[999 rows x 20 columns]>"
      ]
     },
     "execution_count": 69,
     "metadata": {},
     "output_type": "execute_result"
    }
   ],
   "source": [
    "listing_merge2.head"
   ]
  },
  {
   "cell_type": "code",
   "execution_count": 88,
   "metadata": {},
   "outputs": [],
   "source": [
    "#définir 2 variables de travail\n",
    "#X := les features à utiliserY\n",
    "y = listing_merge2['local_price']\n",
    "X = listing_merge2[['person_capacity','beds','bedrooms','bathrooms']]"
   ]
  },
  {
   "cell_type": "code",
   "execution_count": 89,
   "metadata": {},
   "outputs": [
    {
     "data": {
      "text/plain": [
       "0       45.948454\n",
       "1       44.473684\n",
       "2       49.000000\n",
       "3      165.000000\n",
       "4       69.774436\n",
       "          ...    \n",
       "994     38.507732\n",
       "995    147.752551\n",
       "996    152.860825\n",
       "997     49.184211\n",
       "998     39.503937\n",
       "Name: local_price, Length: 999, dtype: float64"
      ]
     },
     "execution_count": 89,
     "metadata": {},
     "output_type": "execute_result"
    }
   ],
   "source": [
    "y"
   ]
  },
  {
   "cell_type": "code",
   "execution_count": 90,
   "metadata": {
    "colab": {},
    "colab_type": "code",
    "id": "E_zalIbpOmvI"
   },
   "outputs": [],
   "source": [
    "\n",
    "\n",
    "#construire l'ensemble de donnée prix \n",
    "#\n",
    "#    INDICE \n",
    "# \n",
    "# récupérer les prix des ID dans le dataset de prix \n",
    "# 🚧 il y a plusieurs prix dans le dataset 🚧\n",
    "\n"
   ]
  },
  {
   "cell_type": "code",
   "execution_count": 91,
   "metadata": {},
   "outputs": [
    {
     "ename": "KeyError",
     "evalue": "\"None of [Float64Index([ 45.94845360824742, 44.473684210526315,               49.0,\\n                           165.0,  69.77443609022556,  80.56363636363636,\\n               61.10909090909091, 213.32460732984293, 174.02849740932643,\\n                           169.0,\\n              ...\\n              183.68085106382978,  160.2269129287599,  64.25906735751295,\\n              182.44415584415583, 248.84971098265896,  38.50773195876289,\\n              147.75255102040816, 152.86082474226805,  49.18421052631579,\\n              39.503937007874015],\\n             dtype='float64', length=999)] are in the [columns]\"",
     "output_type": "error",
     "traceback": [
      "\u001b[1;31m---------------------------------------------------------------------------\u001b[0m",
      "\u001b[1;31mKeyError\u001b[0m                                  Traceback (most recent call last)",
      "\u001b[1;32m<ipython-input-91-408a3a7d0e27>\u001b[0m in \u001b[0;36m<module>\u001b[1;34m\u001b[0m\n\u001b[1;32m----> 1\u001b[1;33m \u001b[0mplt\u001b[0m\u001b[1;33m.\u001b[0m\u001b[0mscatter\u001b[0m\u001b[1;33m(\u001b[0m\u001b[0mlisting_merge2\u001b[0m\u001b[1;33m[\u001b[0m\u001b[1;34m'city'\u001b[0m\u001b[1;33m]\u001b[0m\u001b[1;33m,\u001b[0m\u001b[0mlisting_merge2\u001b[0m\u001b[1;33m[\u001b[0m\u001b[0mY\u001b[0m\u001b[1;33m]\u001b[0m\u001b[1;33m)\u001b[0m\u001b[1;33m\u001b[0m\u001b[1;33m\u001b[0m\u001b[0m\n\u001b[0m",
      "\u001b[1;32m~\\AppData\\Roaming\\Python\\Python38\\site-packages\\pandas\\core\\frame.py\u001b[0m in \u001b[0;36m__getitem__\u001b[1;34m(self, key)\u001b[0m\n\u001b[0;32m   2906\u001b[0m             \u001b[1;32mif\u001b[0m \u001b[0mis_iterator\u001b[0m\u001b[1;33m(\u001b[0m\u001b[0mkey\u001b[0m\u001b[1;33m)\u001b[0m\u001b[1;33m:\u001b[0m\u001b[1;33m\u001b[0m\u001b[1;33m\u001b[0m\u001b[0m\n\u001b[0;32m   2907\u001b[0m                 \u001b[0mkey\u001b[0m \u001b[1;33m=\u001b[0m \u001b[0mlist\u001b[0m\u001b[1;33m(\u001b[0m\u001b[0mkey\u001b[0m\u001b[1;33m)\u001b[0m\u001b[1;33m\u001b[0m\u001b[1;33m\u001b[0m\u001b[0m\n\u001b[1;32m-> 2908\u001b[1;33m             \u001b[0mindexer\u001b[0m \u001b[1;33m=\u001b[0m \u001b[0mself\u001b[0m\u001b[1;33m.\u001b[0m\u001b[0mloc\u001b[0m\u001b[1;33m.\u001b[0m\u001b[0m_get_listlike_indexer\u001b[0m\u001b[1;33m(\u001b[0m\u001b[0mkey\u001b[0m\u001b[1;33m,\u001b[0m \u001b[0maxis\u001b[0m\u001b[1;33m=\u001b[0m\u001b[1;36m1\u001b[0m\u001b[1;33m,\u001b[0m \u001b[0mraise_missing\u001b[0m\u001b[1;33m=\u001b[0m\u001b[1;32mTrue\u001b[0m\u001b[1;33m)\u001b[0m\u001b[1;33m[\u001b[0m\u001b[1;36m1\u001b[0m\u001b[1;33m]\u001b[0m\u001b[1;33m\u001b[0m\u001b[1;33m\u001b[0m\u001b[0m\n\u001b[0m\u001b[0;32m   2909\u001b[0m \u001b[1;33m\u001b[0m\u001b[0m\n\u001b[0;32m   2910\u001b[0m         \u001b[1;31m# take() does not accept boolean indexers\u001b[0m\u001b[1;33m\u001b[0m\u001b[1;33m\u001b[0m\u001b[1;33m\u001b[0m\u001b[0m\n",
      "\u001b[1;32m~\\AppData\\Roaming\\Python\\Python38\\site-packages\\pandas\\core\\indexing.py\u001b[0m in \u001b[0;36m_get_listlike_indexer\u001b[1;34m(self, key, axis, raise_missing)\u001b[0m\n\u001b[0;32m   1252\u001b[0m             \u001b[0mkeyarr\u001b[0m\u001b[1;33m,\u001b[0m \u001b[0mindexer\u001b[0m\u001b[1;33m,\u001b[0m \u001b[0mnew_indexer\u001b[0m \u001b[1;33m=\u001b[0m \u001b[0max\u001b[0m\u001b[1;33m.\u001b[0m\u001b[0m_reindex_non_unique\u001b[0m\u001b[1;33m(\u001b[0m\u001b[0mkeyarr\u001b[0m\u001b[1;33m)\u001b[0m\u001b[1;33m\u001b[0m\u001b[1;33m\u001b[0m\u001b[0m\n\u001b[0;32m   1253\u001b[0m \u001b[1;33m\u001b[0m\u001b[0m\n\u001b[1;32m-> 1254\u001b[1;33m         \u001b[0mself\u001b[0m\u001b[1;33m.\u001b[0m\u001b[0m_validate_read_indexer\u001b[0m\u001b[1;33m(\u001b[0m\u001b[0mkeyarr\u001b[0m\u001b[1;33m,\u001b[0m \u001b[0mindexer\u001b[0m\u001b[1;33m,\u001b[0m \u001b[0maxis\u001b[0m\u001b[1;33m,\u001b[0m \u001b[0mraise_missing\u001b[0m\u001b[1;33m=\u001b[0m\u001b[0mraise_missing\u001b[0m\u001b[1;33m)\u001b[0m\u001b[1;33m\u001b[0m\u001b[1;33m\u001b[0m\u001b[0m\n\u001b[0m\u001b[0;32m   1255\u001b[0m         \u001b[1;32mreturn\u001b[0m \u001b[0mkeyarr\u001b[0m\u001b[1;33m,\u001b[0m \u001b[0mindexer\u001b[0m\u001b[1;33m\u001b[0m\u001b[1;33m\u001b[0m\u001b[0m\n\u001b[0;32m   1256\u001b[0m \u001b[1;33m\u001b[0m\u001b[0m\n",
      "\u001b[1;32m~\\AppData\\Roaming\\Python\\Python38\\site-packages\\pandas\\core\\indexing.py\u001b[0m in \u001b[0;36m_validate_read_indexer\u001b[1;34m(self, key, indexer, axis, raise_missing)\u001b[0m\n\u001b[0;32m   1296\u001b[0m             \u001b[1;32mif\u001b[0m \u001b[0mmissing\u001b[0m \u001b[1;33m==\u001b[0m \u001b[0mlen\u001b[0m\u001b[1;33m(\u001b[0m\u001b[0mindexer\u001b[0m\u001b[1;33m)\u001b[0m\u001b[1;33m:\u001b[0m\u001b[1;33m\u001b[0m\u001b[1;33m\u001b[0m\u001b[0m\n\u001b[0;32m   1297\u001b[0m                 \u001b[0maxis_name\u001b[0m \u001b[1;33m=\u001b[0m \u001b[0mself\u001b[0m\u001b[1;33m.\u001b[0m\u001b[0mobj\u001b[0m\u001b[1;33m.\u001b[0m\u001b[0m_get_axis_name\u001b[0m\u001b[1;33m(\u001b[0m\u001b[0maxis\u001b[0m\u001b[1;33m)\u001b[0m\u001b[1;33m\u001b[0m\u001b[1;33m\u001b[0m\u001b[0m\n\u001b[1;32m-> 1298\u001b[1;33m                 \u001b[1;32mraise\u001b[0m \u001b[0mKeyError\u001b[0m\u001b[1;33m(\u001b[0m\u001b[1;34mf\"None of [{key}] are in the [{axis_name}]\"\u001b[0m\u001b[1;33m)\u001b[0m\u001b[1;33m\u001b[0m\u001b[1;33m\u001b[0m\u001b[0m\n\u001b[0m\u001b[0;32m   1299\u001b[0m \u001b[1;33m\u001b[0m\u001b[0m\n\u001b[0;32m   1300\u001b[0m             \u001b[1;31m# We (temporarily) allow for some missing keys with .loc, except in\u001b[0m\u001b[1;33m\u001b[0m\u001b[1;33m\u001b[0m\u001b[1;33m\u001b[0m\u001b[0m\n",
      "\u001b[1;31mKeyError\u001b[0m: \"None of [Float64Index([ 45.94845360824742, 44.473684210526315,               49.0,\\n                           165.0,  69.77443609022556,  80.56363636363636,\\n               61.10909090909091, 213.32460732984293, 174.02849740932643,\\n                           169.0,\\n              ...\\n              183.68085106382978,  160.2269129287599,  64.25906735751295,\\n              182.44415584415583, 248.84971098265896,  38.50773195876289,\\n              147.75255102040816, 152.86082474226805,  49.18421052631579,\\n              39.503937007874015],\\n             dtype='float64', length=999)] are in the [columns]\""
     ]
    }
   ],
   "source": [
    "plt.scatter(listing_merge2['city'],listing_merge2[Y])"
   ]
  },
  {
   "cell_type": "code",
   "execution_count": 92,
   "metadata": {},
   "outputs": [
    {
     "data": {
      "text/plain": [
       "<matplotlib.collections.PathCollection at 0x12dbd550>"
      ]
     },
     "execution_count": 92,
     "metadata": {},
     "output_type": "execute_result"
    },
    {
     "data": {
      "image/png": "[encoded data removed]",
      "text/plain": [
       "<Figure size 432x288 with 1 Axes>"
      ]
     },
     "metadata": {
      "needs_background": "light"
     },
     "output_type": "display_data"
    }
   ],
   "source": [
    "plt.scatter(listing_merge2['local_price'],listing_merge2['type'])"
   ]
  },
  {
   "cell_type": "code",
   "execution_count": 93,
   "metadata": {},
   "outputs": [
    {
     "data": {
      "text/plain": [
       "<matplotlib.collections.PathCollection at 0x124cbec8>"
      ]
     },
     "execution_count": 93,
     "metadata": {},
     "output_type": "execute_result"
    },
    {
     "data": {
      "image/png": "[encoded data removed]",
      "text/plain": [
       "<Figure size 432x288 with 1 Axes>"
      ]
     },
     "metadata": {
      "needs_background": "light"
     },
     "output_type": "display_data"
    }
   ],
   "source": [
    "plt.scatter(listing_merge2['local_price'],listing_merge2['bathrooms'])"
   ]
  },
  {
   "cell_type": "markdown",
   "metadata": {
    "colab_type": "text",
    "id": "z1ckoHuzOmvW"
   },
   "source": [
    "En *Machine Learning*, on a l'habitude de couper l'ensemble de données en deux sous-ensembles :\n",
    "\n",
    "- Un ensemble d'entraînement (*train set*), sur lequel le modèle va être calibré.\n",
    "- Un ensemble de test (*test set*), qui ne sera pas utilisé pendant le calibrage mais permettra de vérifier l'aptitude du modèle à généraliser sur de nouvelles observations inconnues.\n",
    "\n",
    "En général, on découpe l'ensemble de données (*split*) en prenant $\\alpha \\%$ de l'ensemble pour entraînement et $1-\\alpha \\%$ comme test. Dans la plus part des cas, on considère que $\\alpha=10,20 ou 30\\%$."
   ]
  },
  {
   "cell_type": "code",
   "execution_count": 70,
   "metadata": {
    "colab": {},
    "colab_type": "code",
    "id": "G-x-APn4OmvX",
    "outputId": "ff55319f-f6d2-477c-811e-f1eb2d5ef7b8"
   },
   "outputs": [],
   "source": [
    "#utiliser la méthode split de sklearn en splitant avec un alpha=30 et un random state=42 \n",
    "#afficher la shape de vos données \n",
    "\n",
    "\n"
   ]
  },
  {
   "cell_type": "code",
   "execution_count": 104,
   "metadata": {},
   "outputs": [],
   "source": [
    "from sklearn.model_selection import train_test_split\n",
    "from sklearn.linear_model import LinearRegression"
   ]
  },
  {
   "cell_type": "code",
   "execution_count": 97,
   "metadata": {},
   "outputs": [],
   "source": [
    "X_train, X_test, y_train, y_test = train_test_split(X, y, test_size=0.3, random_state=42)"
   ]
  },
  {
   "cell_type": "markdown",
   "metadata": {
    "colab_type": "text",
    "id": "szd_JPzXOmvq"
   },
   "source": [
    "## Entraînement"
   ]
  },
  {
   "cell_type": "markdown",
   "metadata": {
    "colab_type": "text",
    "id": "1e4cfWxoOmvr"
   },
   "source": [
    "Pour information, *scikit-learn* utilise le solveur OLS (Ordinary Least Squares) de *numpy*."
   ]
  },
  {
   "cell_type": "code",
   "execution_count": 106,
   "metadata": {
    "colab": {},
    "colab_type": "code",
    "id": "TrS4fboZOmvu",
    "outputId": "9a26f504-379b-45b3-b498-8b37befc4e30"
   },
   "outputs": [
    {
     "ename": "NameError",
     "evalue": "name 'fit' is not defined",
     "output_type": "error",
     "traceback": [
      "\u001b[1;31m---------------------------------------------------------------------------\u001b[0m",
      "\u001b[1;31mNameError\u001b[0m                                 Traceback (most recent call last)",
      "\u001b[1;32m<ipython-input-106-652588be4167>\u001b[0m in \u001b[0;36m<module>\u001b[1;34m\u001b[0m\n\u001b[0;32m      1\u001b[0m \u001b[1;31m#créer l'objet de régression et entrainer le sur notre ensemble d'entraînement\u001b[0m\u001b[1;33m\u001b[0m\u001b[1;33m\u001b[0m\u001b[1;33m\u001b[0m\u001b[0m\n\u001b[0;32m      2\u001b[0m \u001b[0mlinreg\u001b[0m \u001b[1;33m=\u001b[0m \u001b[0mLinearRegression\u001b[0m\u001b[1;33m(\u001b[0m\u001b[1;33m)\u001b[0m\u001b[1;33m\u001b[0m\u001b[1;33m\u001b[0m\u001b[0m\n\u001b[1;32m----> 3\u001b[1;33m \u001b[0mfit\u001b[0m\u001b[1;33m(\u001b[0m\u001b[0mX_train\u001b[0m\u001b[1;33m,\u001b[0m\u001b[0my_train\u001b[0m\u001b[1;33m)\u001b[0m\u001b[1;33m\u001b[0m\u001b[1;33m\u001b[0m\u001b[0m\n\u001b[0m",
      "\u001b[1;31mNameError\u001b[0m: name 'fit' is not defined"
     ]
    }
   ],
   "source": [
    "#créer l'objet de régression et entrainer le sur notre ensemble d'entraînement\n",
    "linreg = LinearRegression()\n"
   ]
  },
  {
   "cell_type": "markdown",
   "metadata": {
    "colab_type": "text",
    "id": "40mJxNwhOmv5"
   },
   "source": [
    "On affiche le vecteur des coefficients pour interpréter rapidement le modèle."
   ]
  },
  {
   "cell_type": "code",
   "execution_count": 108,
   "metadata": {
    "colab": {},
    "colab_type": "code",
    "id": "uUjLZYBEOmv7",
    "outputId": "3ac3800a-e028-46d6-e367-f64e1232d3bc"
   },
   "outputs": [
    {
     "data": {
      "text/plain": [
       "LinearRegression()"
      ]
     },
     "execution_count": 108,
     "metadata": {},
     "output_type": "execute_result"
    }
   ],
   "source": [
    "#afficher les coefficients\n",
    "linreg.fit(X_train,y_train)\n",
    "\n",
    "#que remarquez vous ? \n"
   ]
  },
  {
   "cell_type": "code",
   "execution_count": 110,
   "metadata": {},
   "outputs": [
    {
     "data": {
      "text/plain": [
       "array([ 38.28168742, -21.48146344,  20.21008209,  88.9106011 ])"
      ]
     },
     "execution_count": 110,
     "metadata": {},
     "output_type": "execute_result"
    }
   ],
   "source": [
    "linreg.coef_"
   ]
  },
  {
   "cell_type": "code",
   "execution_count": 112,
   "metadata": {},
   "outputs": [
    {
     "data": {
      "text/plain": [
       "-40.6805032088898"
      ]
     },
     "execution_count": 112,
     "metadata": {},
     "output_type": "execute_result"
    }
   ],
   "source": [
    "linreg.intercept_"
   ]
  },
  {
   "cell_type": "code",
   "execution_count": null,
   "metadata": {},
   "outputs": [],
   "source": []
  },
  {
   "cell_type": "markdown",
   "metadata": {
    "colab_type": "text",
    "id": "nt4z_sh4OmwI"
   },
   "source": [
    "## Validation du modèle\n",
    "\n",
    "### Le coefficient de détermination $R^2$\n",
    "\n",
    "Par la suite, nous ferons l'hypothèse de gaussianité sur les bruits. Dans l'idée, nous aimerions obtenir une valeur numérique qui nous indique à quel point la régression linéaire a un sens sur nos données. Pour cela, introduisons les notations suivantes :\n",
    "\n",
    "- $SCT=\\|Y-\\hat{y} \\mathbf{1}\\|^2$ est la somme des carrés totaux\n",
    "- $SCE=\\|\\hat{Y}-\\hat{y} \\mathbf{1}\\|^2$ est la somme des carrés expliqués\n",
    "- $SCR=\\|\\hat{\\varepsilon}\\|^2$ est la somme des carrés résiduels\n",
    "\n",
    "L'idée est de décomposer la somme des carrés totaux comme la somme des carrés que le modèle explique, en plus de la somme des carrés qui sont liés aux résidus (et donc que le modèle ne peut pas expliquer). On voit donc ici l'intérêt de calculer un coefficient à partir du $SCE$. Puisque l'on a la relation suivante :\n",
    "\n",
    "$$SCT=SCE+SCR \\text{ alors } 1=\\frac{SCE}{SCT}+\\frac{SCR}{SCT}$$\n",
    "\n",
    "Plus les résidus sont petits (et donc la régression est \"bonne\"), plus $SCR$ devient petit et donc $SCE$ devient grand. Le schéma inverse s'opère de la même façon. Dans le meilleur des cas, on obtient $SCR=0$ et donc $SCE=SCT$ d'où le premier membre vaut $1$. Dans le cas contraite, $SCE=0$ et automatiquement, le premier membre est nul. C'est ainsi que l'on définit le coefficient de détermination $R^2$ comme \n",
    "$$R^2=\\frac{SCE}{SCT}=1-\\frac{SCR}{SCT}$$\n",
    "Ainsi, $R^2 \\in [0,1]$. Plus $R^2$ est proche de $1$, plus la régression linéaire a du sens. Au contraire, si $R^2$ est proche de $0$, le modèle linéaire possède un faible pouvoir explicatif."
   ]
  },
  {
   "cell_type": "code",
   "execution_count": 113,
   "metadata": {
    "colab": {},
    "colab_type": "code",
    "id": "uf8_Sw5yOmwJ",
    "outputId": "5035a388-7cdb-4346-f833-d47fdabf2bc0"
   },
   "outputs": [
    {
     "data": {
      "text/plain": [
       "array([123.52209138, 102.04062793, 103.31200929,  85.24040396,\n",
       "       215.61430884, 160.53239745, 537.84588489,  81.83054584,\n",
       "       363.01667945, 223.05930333, 120.11223326, 593.37703034,\n",
       "       141.59369671, 235.82439093, 103.31200929, 123.52209138,\n",
       "        81.83054584, 177.33262142, 407.24373825, 769.69860944,\n",
       "       609.95626201, 200.08546622, 198.81408487,  81.83054584,\n",
       "       103.31200929, 173.92276331, 167.97739193, 200.08546622,\n",
       "       120.11223326,  85.24040396,  85.24040396, 221.78792197,\n",
       "       103.31200929, 750.95677774, 415.55582814, 266.24322252,\n",
       "       103.31200929, 407.47198   , 123.52209138, 202.84922124,\n",
       "       140.32231535,  65.03032187, 200.08546622, 249.44299855,\n",
       "       341.53521601, 123.52209138, 103.31200929, 178.60400278,\n",
       "       123.52209138, 123.52209138, 123.52209138, 140.32231535,\n",
       "       198.81408487, 103.31200929, 274.10607835, 178.60400278,\n",
       "       243.26938542, 157.12253933, 216.8856902 ,  60.3490824 ,\n",
       "       102.04062793, 167.97739193, 123.52209138, 232.41453282,\n",
       "       164.56753381, 496.3825811 , 123.52209138, 123.52209138,\n",
       "       221.78792197, 324.73499203, 221.78792197, 395.34574605,\n",
       "       158.39392069, 177.33262142, 178.60400278, 425.31534358,\n",
       "       161.8037788 , 103.31200929, 123.52209138, 103.31200929,\n",
       "       260.06960939, 103.31200929, 260.06960939, 123.52209138,\n",
       "       258.15212494, 123.52209138, 178.60400278,  65.03032187,\n",
       "       178.60400278, 198.81408487, 342.80659736,  85.24040396,\n",
       "       232.41453282,  40.78510341, 103.31200929, 103.31200929,\n",
       "       123.52209138, 158.39392069, 140.32231535, 221.78792197,\n",
       "       200.08546622, 178.60400278, 287.72468597, 103.31200929,\n",
       "       178.60400278, 102.04062793,  85.24040396, 198.81408487,\n",
       "       103.31200929, 178.60400278, 237.09577229, 244.54076677,\n",
       "       321.32513392,  85.24040396, 123.52209138, 161.8037788 ,\n",
       "        65.03032187, 584.21142045, 475.94425726, 123.52209138,\n",
       "       287.72468597, 474.90111766, 140.32231535, 103.31200929,\n",
       "       198.81408487, 158.39392069, 177.33262142,  85.24040396,\n",
       "       379.81690343, 123.52209138, 160.53239745, 103.31200929,\n",
       "       363.01667945, 335.58259519, 102.04062793, 451.92728055,\n",
       "       123.52209138, 140.32231535, 123.52209138, 223.05930333,\n",
       "       123.52209138, 103.31200929, 103.31200929, 253.89599626,\n",
       "       123.52209138, 528.49065539, 123.52209138,  85.24040396,\n",
       "       342.80659736, 123.52209138, 184.7776159 , 179.87538413,\n",
       "       284.31482785, 123.52209138, 326.00637339, 178.60400278,\n",
       "       172.65138195, 123.52209138, 658.19433391, 123.52209138,\n",
       "       287.72468597, 178.60400278, 198.81408487, 103.31200929,\n",
       "        65.03032187, 123.52209138, 103.31200929, 253.89599626,\n",
       "       292.17768368, 160.53239745, 235.82439093, 364.28806081,\n",
       "       123.52209138, 103.31200929, 103.31200929, 123.52209138,\n",
       "       183.28524224, 103.31200929, 140.32231535, 238.36715364,\n",
       "       192.86146404,  85.24040396, 161.8037788 , 178.60400278,\n",
       "       103.31200929, 198.81408487, 194.1328454 , 430.44581711,\n",
       "       243.26938542, 178.60400278, 102.04062793, 103.31200929,\n",
       "       167.97739193, 103.31200929, 336.85397654,  58.85670874,\n",
       "       177.33262142, 198.81408487, 275.59845202, 123.52209138,\n",
       "        85.24040396, 290.90630233, 178.60400278, 361.52430579,\n",
       "       103.31200929, 103.31200929, 123.52209138, 178.60400278,\n",
       "       103.31200929, 198.81408487, 123.52209138, 140.32231535,\n",
       "       123.52209138, 260.06960939, 215.61430884, 123.52209138,\n",
       "       140.32231535, 178.60400278, 158.39392069, 140.32231535,\n",
       "       103.31200929, 123.52209138, 103.31200929, 123.52209138,\n",
       "       198.81408487, 103.31200929, 123.52209138, 123.52209138,\n",
       "       123.52209138, 354.92558187, 123.52209138, 102.04062793,\n",
       "       223.05930333, 451.92003111, 178.60400278, 178.60400278,\n",
       "       160.53239745, 198.81408487, 332.17998652, 102.04062793,\n",
       "       232.41453282, 178.60400278, 103.31200929, 160.53239745,\n",
       "       167.97739193, 123.52209138, 200.08546622, 418.09859085,\n",
       "       198.81408487, 253.89599626, 158.39392069, 123.52209138,\n",
       "       123.52209138, 140.32231535,  85.24040396, 281.77206514,\n",
       "       120.11223326, 140.32231535, 178.60400278, 140.32231535,\n",
       "       178.60400278, 324.73499203, 178.60400278, 118.84085191,\n",
       "       233.68591417, 103.31200929, 431.48895671, 161.8037788 ,\n",
       "       123.52209138, 223.05930333, 379.81690343, 221.56692966,\n",
       "       252.62461491, 198.81408487, 178.60400278, 123.52209138,\n",
       "       103.31200929, 253.89599626, 158.39392069, 103.31200929,\n",
       "       249.2147568 , 178.60400278, 103.31200929,  65.03032187,\n",
       "       178.60400278, 161.8037788 , 200.08546622, 200.08546622,\n",
       "       123.52209138, 215.61430884, 103.31200929, 123.52209138,\n",
       "       177.33262142, 253.89599626, 123.52209138, 484.03535484,\n",
       "       379.81690343, 102.04062793, 103.31200929, 565.50096146])"
      ]
     },
     "execution_count": 113,
     "metadata": {},
     "output_type": "execute_result"
    }
   ],
   "source": [
    "#faire une prediction sur X\n",
    "linreg.predict(X_test)"
   ]
  },
  {
   "cell_type": "code",
   "execution_count": 114,
   "metadata": {
    "colab": {},
    "colab_type": "code",
    "id": "AEQrrOb6OmwV",
    "outputId": "f5e692a4-e10f-4a15-d37a-a12edfc7aaaf"
   },
   "outputs": [
    {
     "data": {
      "text/plain": [
       "46.15153233140561"
      ]
     },
     "execution_count": 114,
     "metadata": {},
     "output_type": "execute_result"
    }
   ],
   "source": [
    "#afficher l'erreur des moindres carrées sur l'ensemble d'entrainement ainsi que le R2\n",
    "linreg.score(X_test,y_test)*100"
   ]
  },
  {
   "cell_type": "markdown",
   "metadata": {
    "colab_type": "text",
    "id": "3C3r6tz9Omwd"
   },
   "source": [
    "## Bonus : Analyse de l'homoscédasticité\n",
    "\n",
    "L'analyse de l'homoscédasticité est primordiale : c'est en particulier elle qui nous permet de vérifier, à partir des résidus, si les bruits vérifient bien l'hypothèse $(\\mathcal{H})$. On calcule donc les **résidus studentisés**.\n",
    "\n",
    "$$t_i^*=\\frac{\\hat{\\varepsilon}_i}{\\hat{\\sigma}_{(i)} \\sqrt{1-h_{ii}}}$$\n",
    "Avec $h_{ii}=\\{X(X^\\top X)^{-1} X^\\top\\}_{ii}=H_{ii}$ la matrice de projection sur l'hyperplan des variables. Plus précisément, $H$ est la matrice qui projette $Y$ sur l'espace engendré par les variables, soit $\\hat{Y}=HY$. De même, on considère $\\hat{\\sigma}_{(i)}$ l'estimateur de la variance du bruit en supprimant l'observation $i$ (par une méthode de validation croisée Leave-One-Out que nous ne détaillerons pas ici).\n",
    "\n",
    "Dans ce cas, on peut montrer que les résidus studentisés suivent une loi de Student à $n-p-1$ degrés de liberté."
   ]
  },
  {
   "cell_type": "code",
   "execution_count": 75,
   "metadata": {
    "colab": {},
    "colab_type": "code",
    "id": "QC71Z7HhOmwf",
    "outputId": "ab8657d8-81d0-4c77-871a-d232178a2537"
   },
   "outputs": [
    {
     "ename": "NameError",
     "evalue": "name 'regr' is not defined",
     "output_type": "error",
     "traceback": [
      "\u001b[1;31m---------------------------------------------------------------------------\u001b[0m",
      "\u001b[1;31mNameError\u001b[0m                                 Traceback (most recent call last)",
      "\u001b[1;32m<ipython-input-75-7c562571eca4>\u001b[0m in \u001b[0;36m<module>\u001b[1;34m\u001b[0m\n\u001b[0;32m      1\u001b[0m \u001b[1;31m#analyser le code ci-dessous\u001b[0m\u001b[1;33m\u001b[0m\u001b[1;33m\u001b[0m\u001b[1;33m\u001b[0m\u001b[0m\n\u001b[0;32m      2\u001b[0m \u001b[1;32mimport\u001b[0m \u001b[0mscipy\u001b[0m\u001b[1;33m\u001b[0m\u001b[1;33m\u001b[0m\u001b[0m\n\u001b[1;32m----> 3\u001b[1;33m \u001b[0mY_pred\u001b[0m \u001b[1;33m=\u001b[0m \u001b[0mregr\u001b[0m\u001b[1;33m.\u001b[0m\u001b[0mpredict\u001b[0m\u001b[1;33m(\u001b[0m\u001b[0mX_train\u001b[0m\u001b[1;33m)\u001b[0m\u001b[1;33m\u001b[0m\u001b[1;33m\u001b[0m\u001b[0m\n\u001b[0m\u001b[0;32m      4\u001b[0m \u001b[0mn\u001b[0m \u001b[1;33m=\u001b[0m \u001b[0mX_train\u001b[0m\u001b[1;33m.\u001b[0m\u001b[0mshape\u001b[0m\u001b[1;33m[\u001b[0m\u001b[1;36m0\u001b[0m\u001b[1;33m]\u001b[0m\u001b[1;33m\u001b[0m\u001b[1;33m\u001b[0m\u001b[0m\n\u001b[0;32m      5\u001b[0m \u001b[0mp\u001b[0m \u001b[1;33m=\u001b[0m \u001b[1;36m4\u001b[0m\u001b[1;33m\u001b[0m\u001b[1;33m\u001b[0m\u001b[0m\n",
      "\u001b[1;31mNameError\u001b[0m: name 'regr' is not defined"
     ]
    }
   ],
   "source": [
    "#analyser le code ci-dessous \n",
    "import scipy\n",
    "Y_pred = regr.predict(X_train)\n",
    "n = X_train.shape[0]\n",
    "p = 4\n",
    "residuals = np.abs(y_train - Y_pred)\n",
    "H = np.matmul(X_train, np.linalg.solve(np.dot(X_train.T, X_train), X_train.T))\n",
    "std_hat = np.dot(residuals, residuals) / (n - p)\n",
    "standart_residuals = np.asarray([residuals[i] / np.sqrt(std_hat * (1 - H[i, i])) for i in range(len(residuals))])\n",
    "student_residuals = np.asarray([ standart_residuals[i] * np.sqrt((n - p - 1) / (n - p - standart_residuals[i]**2)) for i in range(n) ])\n",
    "cook = np.asarray([ H[i, i] * student_residuals[i] / (X_train.shape[1] * (1 - H[i, i])) for i in range(n) ])\n",
    "\n",
    "plt.figure(figsize=(20, 12))\n",
    "plt.subplot(221)\n",
    "plt.scatter(Y_pred, student_residuals, s=12, c=\"white\", edgecolors=\"blue\")\n",
    "plt.plot([min(Y_pred), max(Y_pred)], [ scipy.stats.t.ppf(q=0.975, df=n-p-1), scipy.stats.t.ppf(q=0.975, df=n-p-1)], color=\"green\", alpha=0.6, label=\"Quantile de Student\")\n",
    "plt.title(\"Analyse de l’homoscédasticité\")\n",
    "plt.xlabel(\"Prédictions $\\hat{y}_i$\")\n",
    "plt.ylabel(\"Résidus studentisés $|t_i^*|$\")\n",
    "plt.legend()"
   ]
  },
  {
   "cell_type": "code",
   "execution_count": null,
   "metadata": {
    "colab": {},
    "colab_type": "code",
    "id": "RHy-a9jROmws"
   },
   "outputs": [],
   "source": []
  },
  {
   "cell_type": "code",
   "execution_count": null,
   "metadata": {},
   "outputs": [],
   "source": []
  },
  {
   "cell_type": "code",
   "execution_count": null,
   "metadata": {},
   "outputs": [],
   "source": []
  },
  {
   "cell_type": "code",
   "execution_count": null,
   "metadata": {},
   "outputs": [],
   "source": []
  },
  {
   "cell_type": "code",
   "execution_count": null,
   "metadata": {},
   "outputs": [],
   "source": []
  },
  {
   "cell_type": "code",
   "execution_count": null,
   "metadata": {},
   "outputs": [],
   "source": []
  },
  {
   "cell_type": "code",
   "execution_count": null,
   "metadata": {},
   "outputs": [],
   "source": []
  },
  {
   "cell_type": "code",
   "execution_count": null,
   "metadata": {},
   "outputs": [],
   "source": []
  },
  {
   "cell_type": "code",
   "execution_count": null,
   "metadata": {},
   "outputs": [],
   "source": []
  },
  {
   "cell_type": "code",
   "execution_count": null,
   "metadata": {},
   "outputs": [],
   "source": []
  },
  {
   "cell_type": "code",
   "execution_count": null,
   "metadata": {},
   "outputs": [],
   "source": []
  }
 ],
 "metadata": {
  "colab": {
   "name": "ModeleLineaire1.ipynb",
   "provenance": []
  },
  "kernelspec": {
   "display_name": "Python 3",
   "language": "python",
   "name": "python3"
  },
  "language_info": {
   "codemirror_mode": {
    "name": "ipython",
    "version": 3
   },
   "file_extension": ".py",
   "mimetype": "text/x-python",
   "name": "python",
   "nbconvert_exporter": "python",
   "pygments_lexer": "ipython3",
   "version": "3.8.5"
  },
  "latex_envs": {
   "LaTeX_envs_menu_present": true,
   "autoclose": false,
   "autocomplete": true,
   "bibliofile": "biblio.bib",
   "cite_by": "apalike",
   "current_citInitial": 1,
   "eqLabelWithNumbers": true,
   "eqNumInitial": 1,
   "hotkeys": {
    "equation": "Ctrl-E",
    "itemize": "Ctrl-I"
   },
   "labels_anchors": false,
   "latex_user_defs": false,
   "report_style_numbering": false,
   "user_envs_cfg": false
  },
  "toc": {
   "base_numbering": 1,
   "nav_menu": {},
   "number_sections": true,
   "sideBar": true,
   "skip_h1_title": false,
   "title_cell": "Table of Contents",
   "title_sidebar": "Contents",
   "toc_cell": false,
   "toc_position": {},
   "toc_section_display": true,
   "toc_window_display": false
  },
  "varInspector": {
   "cols": {
    "lenName": 16,
    "lenType": 16,
    "lenVar": 40
   },
   "kernels_config": {
    "python": {
     "delete_cmd_postfix": "",
     "delete_cmd_prefix": "del ",
     "library": "var_list.py",
     "varRefreshCmd": "print(var_dic_list())"
    },
    "r": {
     "delete_cmd_postfix": ") ",
     "delete_cmd_prefix": "rm(",
     "library": "var_list.r",
     "varRefreshCmd": "cat(var_dic_list()) "
    }
   },
   "types_to_exclude": [
    "module",
    "function",
    "builtin_function_or_method",
    "instance",
    "_Feature"
   ],
   "window_display": false
  }
 },
 "nbformat": 4,
 "nbformat_minor": 1
}
